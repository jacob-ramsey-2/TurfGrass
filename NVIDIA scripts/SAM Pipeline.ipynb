{
 "cells": [
  {
   "cell_type": "markdown",
   "id": "7aedaa47-cab0-47af-b670-94af88619720",
   "metadata": {},
   "source": [
    "# SONY A6700 to Segment Anything Model (SAM) Pipeline"
   ]
  },
  {
   "cell_type": "markdown",
   "id": "100ef269-eea6-47ca-98aa-5ca6879bf236",
   "metadata": {},
   "source": [
    "This notebook creates a pipeline for image segmentation:\n",
    "1. Import necessary libraries and SAM\n",
    "2. Take image with GPhoto2 Open-source camera control library\n",
    "3. Augment and process image\n",
    "4. Send image through SAM\n",
    "5. Display segmented image"
   ]
  },
  {
   "cell_type": "markdown",
   "id": "0ce7c12e-b766-4a16-b3f0-bdd591d13519",
   "metadata": {},
   "source": [
    "## 1. Import necessary libraries and SAM"
   ]
  },
  {
   "cell_type": "code",
   "execution_count": null,
   "id": "d26e7472-b166-4f7f-a767-8d4928e66d04",
   "metadata": {},
   "outputs": [],
   "source": []
  },
  {
   "cell_type": "markdown",
   "id": "b0089877-7380-47de-af6f-142bdc2e5564",
   "metadata": {},
   "source": [
    "## 2. Take image with GPhoto2 Open-source camera control library"
   ]
  },
  {
   "cell_type": "code",
   "execution_count": null,
   "id": "0d9a9361-7846-4f4b-8517-32a6602881aa",
   "metadata": {},
   "outputs": [],
   "source": []
  },
  {
   "cell_type": "markdown",
   "id": "9311df7c-3ef1-4440-a4b1-4e766ac8b560",
   "metadata": {},
   "source": [
    "## 3. Augment and process image"
   ]
  },
  {
   "cell_type": "code",
   "execution_count": null,
   "id": "d30ca212-b9a1-4efd-b7d8-7ea1054cfbd4",
   "metadata": {},
   "outputs": [],
   "source": []
  },
  {
   "cell_type": "markdown",
   "id": "d3868a30-d26c-434d-9cba-f83359f471c2",
   "metadata": {},
   "source": [
    "## 4. Send image through SAM"
   ]
  },
  {
   "cell_type": "code",
   "execution_count": null,
   "id": "1817e8f5-b7a0-4c07-a73f-a86ae388a331",
   "metadata": {},
   "outputs": [],
   "source": []
  },
  {
   "cell_type": "markdown",
   "id": "4d0dca4c-34ab-4b30-9259-5cf2c9f9c2f2",
   "metadata": {},
   "source": [
    "## 5. Display segmented image"
   ]
  },
  {
   "cell_type": "code",
   "execution_count": null,
   "id": "7de45c2c-b4bc-4515-a5a6-85138a99b9c1",
   "metadata": {},
   "outputs": [],
   "source": []
  }
 ],
 "metadata": {
  "kernelspec": {
   "display_name": "Python 3 (ipykernel)",
   "language": "python",
   "name": "python3"
  },
  "language_info": {
   "codemirror_mode": {
    "name": "ipython",
    "version": 3
   },
   "file_extension": ".py",
   "mimetype": "text/x-python",
   "name": "python",
   "nbconvert_exporter": "python",
   "pygments_lexer": "ipython3",
   "version": "3.13.1"
  }
 },
 "nbformat": 4,
 "nbformat_minor": 5
}
