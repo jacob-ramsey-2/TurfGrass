{
 "cells": [
  {
   "cell_type": "markdown",
   "id": "7aedaa47-cab0-47af-b670-94af88619720",
   "metadata": {},
   "source": [
    "# SONY A6700 to Segment Anything Model (SAM) Pipeline"
   ]
  },
  {
   "cell_type": "markdown",
   "id": "100ef269-eea6-47ca-98aa-5ca6879bf236",
   "metadata": {},
   "source": [
    "This notebook creates a pipeline for image segmentation:\n",
    "1. Import necessary libraries and SAM\n",
    "2. Take image with GPhoto2 Open-source camera control library\n",
    "3. Augment and process image\n",
    "4. Send image through SAM\n",
    "5. Display segmented image"
   ]
  },
  {
   "cell_type": "markdown",
   "id": "0ce7c12e-b766-4a16-b3f0-bdd591d13519",
   "metadata": {},
   "source": [
    "## 1. Import necessaries libraries and SAM"
   ]
  },
  {
   "cell_type": "code",
   "execution_count": null,
   "id": "d26e7472-b166-4f7f-a767-8d4928e66d04",
   "metadata": {},
   "outputs": [],
   "source": []
  }
 ],
 "metadata": {
  "kernelspec": {
   "display_name": "Python 3 (ipykernel)",
   "language": "python",
   "name": "python3"
  },
  "language_info": {
   "codemirror_mode": {
    "name": "ipython",
    "version": 3
   },
   "file_extension": ".py",
   "mimetype": "text/x-python",
   "name": "python",
   "nbconvert_exporter": "python",
   "pygments_lexer": "ipython3",
   "version": "3.13.1"
  }
 },
 "nbformat": 4,
 "nbformat_minor": 5
}
