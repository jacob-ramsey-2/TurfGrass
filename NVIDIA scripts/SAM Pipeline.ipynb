{
 "cells": [
  {
   "cell_type": "markdown",
   "id": "7aedaa47-cab0-47af-b670-94af88619720",
   "metadata": {},
   "source": [
    "# SONY A6700 to Segment Anything Model (SAM) Pipeline"
   ]
  },
  {
   "cell_type": "markdown",
   "id": "100ef269-eea6-47ca-98aa-5ca6879bf236",
   "metadata": {},
   "source": [
    "This notebook creates a pipeline for image segmentation:\n",
    "1. Import necessary libraries and SAM\n",
    "2. Take image with GPhoto2 Open-source camera control library\n",
    "3. Augment and process image\n",
    "4. Send image through SAM\n",
    "5. Display segmented image\n",
    "\n",
    "Requirements:\n",
    "* Camera comptabile with GPhoto2\n",
    "* Linux operating system\n",
    "* GPU for SAM processing\n"
   ]
  },
  {
   "cell_type": "markdown",
   "id": "0ce7c12e-b766-4a16-b3f0-bdd591d13519",
   "metadata": {},
   "source": [
    "## 1. Import necessary libraries and SAM"
   ]
  },
  {
   "cell_type": "code",
   "execution_count": null,
   "id": "64d8b691-65c5-4dd4-bf82-eaddc637f817",
   "metadata": {
    "scrolled": true
   },
   "outputs": [],
   "source": [
    "# install requirements\n",
    "!pip install -r requirements.txt\n",
    "!pip install git+https://github.com/facebookresearch/segment-anything.git\n",
    "!pip install -U numpy<2\n",
    "!pip uninstall -y torch\n",
    "!pip uninstall -y torchvision\n",
    "!pip uninstall -y torchaudio\n",
    "!pip install -U matplotlib\n",
    "!pip install torch-2.5.0a0+872d972e41.nv24.08.17622132-cp310-cp310-linux_aarch64.whl\n",
    "!wget raw.githubusercontent.com/pytorch/pytorch/5c6af2b583709f6176898c017424dc9981023c28/.ci/docker/common/install_cusparselt.sh "
   ]
  },
  {
   "cell_type": "code",
   "execution_count": null,
   "id": "d26e7472-b166-4f7f-a767-8d4928e66d04",
   "metadata": {},
   "outputs": [],
   "source": [
    "# import python libraries\n",
    "import time\n",
    "import os\n",
    "import gphoto2 as gp \n",
    "import logging\n",
    "import locale\n",
    "import subprocess\n",
    "import sys\n",
    "import mimetypes\n",
    "import datetime\n",
    "import traceback\n",
    "from pathlib import Path\n",
    "import numpy as np\n",
    "import matplotlib.pyplot as plt\n",
    "import cv2\n",
    "import torch\n",
    "import torchvision\n",
    "\n",
    "from segment_anything import SamAutomaticMaskGenerator, sam_model_registry\n",
    "sam = sam_model_registry[\"vit_h\"](checkpoint=\"sam_vit_h_4b8939.pth\")\n",
    "sam.to(device='cuda')\n",
    "mask_generator = SamAutomaticMaskGenerator(sam)\n"
   ]
  },
  {
   "cell_type": "markdown",
   "id": "b0089877-7380-47de-af6f-142bdc2e5564",
   "metadata": {},
   "source": [
    "## 2. Take image with GPhoto2 Open-source camera control library"
   ]
  },
  {
   "cell_type": "code",
   "execution_count": null,
   "id": "0d9a9361-7846-4f4b-8517-32a6602881aa",
   "metadata": {},
   "outputs": [],
   "source": [
    "# initialize camera object\n",
    "camera = gp.Camera()\n",
    "camera.init()\n",
    "\n",
    "try:\n",
    "    print(\"Capturing image....\")\n",
    "    file_path = camera.capture(gp.GP_CAPTURE_IMAGE)\n",
    "\n",
    "    filename = file_path.name\n",
    "    folder = file_path.folder\n",
    "\n",
    "    # define where to store image, local directory in this case\n",
    "    target_path = os.path.join(ohttps://developer.download.nvidia.com/compute/redist/jp/v51/pytorch/torch-1.14.0a0+44dac51c.nv23.01-cp38-cp38-linux_aarch64.whls.getcwd(), \"test1.jpg\")\n",
    "\n",
    "    # download file from camera to host\n",
    "    print(f\"Saving image to {target_path}\")\n",
    "    camera_file = camera.file_get(folder, filename, gp.GP_FILE_TYPE_NORMAL)\n",
    "    camera_file.save(target_path)\n",
    "\n",
    "except gp.GPhoto2Error as ex:\n",
    "    print(f\"An error occured: {ex}\")\n",
    "\n",
    "finally:\n",
    "    camera.exit()\n",
    "    print(\"Success\")\n"
   ]
  },
  {
   "cell_type": "markdown",
   "id": "9311df7c-3ef1-4440-a4b1-4e766ac8b560",
   "metadata": {},
   "source": [
    "## 3. Augment and process image"
   ]
  },
  {
   "cell_type": "code",
   "execution_count": null,
   "id": "d30ca212-b9a1-4efd-b7d8-7ea1054cfbd4",
   "metadata": {},
   "outputs": [],
   "source": [
    "# load image into cv2\n",
    "image_1 = cv2.imread(target_path)\n",
    "image_1 = cv2.cvtColor(image_1, cv2.COLOR_BGR2RGB)\n",
    "\n",
    "plt.figure(figsize=(15,15))\n",
    "plt.imshow(image_1)\n",
    "plt.axis('off')\n",
    "plt.show()\n"
   ]
  },
  {
   "cell_type": "markdown",
   "id": "d3868a30-d26c-434d-9cba-f83359f471c2",
   "metadata": {},
   "source": [
    "## 4. Send image through SAM"
   ]
  },
  {
   "cell_type": "code",
   "execution_count": null,
   "id": "1817e8f5-b7a0-4c07-a73f-a86ae388a331",
   "metadata": {},
   "outputs": [],
   "source": [
    "masks = mask_generator.generate(image_1)"
   ]
  },
  {
   "cell_type": "markdown",
   "id": "4d0dca4c-34ab-4b30-9259-5cf2c9f9c2f2",
   "metadata": {},
   "source": [
    "## 5. Display segmented image"
   ]
  },
  {
   "cell_type": "code",
   "execution_count": null,
   "id": "7de45c2c-b4bc-4515-a5a6-85138a99b9c1",
   "metadata": {},
   "outputs": [],
   "source": [
    "def show_anns(anns):\n",
    "    if len(anns) == 0:\n",
    "        return\n",
    "    sorted_anns = sorted(anns, key=(lambda x: x['area']), reverse=True)\n",
    "    ax = plt.gca()\n",
    "    ax.set_autoscale_on(False)\n",
    "\n",
    "    img = np.ones((sorted_anns[0]['segmentation'].shape[0], sorted_anns[0]['segmentation'].shape[1], 4))\n",
    "    img[:,:,3] = 0\n",
    "    for ann in sorted_anns:\n",
    "        m = ann['segmentation']\n",
    "        color_mask = np.concatenate([np.random.random(3), [0.35])\n",
    "        img[m] = color_mask\n",
    "    ax.imshow(img)\n",
    "\n",
    "plt.figure(figsize=(15,15))\n",
    "plt.imshow(image_1)\n",
    "show_anns(masks)\n",
    "plt.axis('off')\n",
    "plt.show()"
   ]
  }
 ],
 "metadata": {
  "kernelspec": {
   "display_name": "Python 3 (ipykernel)",
   "language": "python",
   "name": "python3"
  },
  "language_info": {
   "codemirror_mode": {
    "name": "ipython",
    "version": 3
   },
   "file_extension": ".py",
   "mimetype": "text/x-python",
   "name": "python",
   "nbconvert_exporter": "python",
   "pygments_lexer": "ipython3",
   "version": "3.10.12"
  }
 },
 "nbformat": 4,
 "nbformat_minor": 5
}
