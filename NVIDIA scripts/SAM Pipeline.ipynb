{
 "cells": [
  {
   "cell_type": "markdown",
   "id": "7aedaa47-cab0-47af-b670-94af88619720",
   "metadata": {},
   "source": [
    "# SONY A6700 to Segment Anything Model (SAM) Pipeline"
   ]
  },
  {
   "cell_type": "markdown",
   "id": "100ef269-eea6-47ca-98aa-5ca6879bf236",
   "metadata": {},
   "source": [
    "This notebook creates a pipeline for image segmentation:\n",
    "1. Import necessary libraries and SAM\n",
    "2. Take image with GPhoto2 Open-source camera control library\n",
    "3. Augment and process image\n",
    "4. Send image through SAM\n",
    "5. Display segmented image\n",
    "\n",
    "Requirements:\n",
    "* Camera comptabile with GPhoto2\n",
    "* Linux operating system\n",
    "* GPU for SAM processing\n"
   ]
  },
  {
   "cell_type": "markdown",
   "id": "0ce7c12e-b766-4a16-b3f0-bdd591d13519",
   "metadata": {},
   "source": [
    "## 1. Import necessary libraries and SAM"
   ]
  },
  {
   "cell_type": "code",
   "execution_count": 1,
   "id": "64d8b691-65c5-4dd4-bf82-eaddc637f817",
   "metadata": {
    "scrolled": true
   },
   "outputs": [
    {
     "name": "stdout",
     "output_type": "stream",
     "text": [
      "Defaulting to user installation because normal site-packages is not writeable\n",
      "\u001b[33mWARNING: Ignoring invalid distribution - (/home/besslab-orin/.local/lib/python3.10/site-packages)\u001b[0m\u001b[33m\n",
      "\u001b[0m\u001b[33mWARNING: Ignoring invalid distribution -umpy (/home/besslab-orin/.local/lib/python3.10/site-packages)\u001b[0m\u001b[33m\n",
      "\u001b[0mRequirement already satisfied: bcrypt==4.3.0 in /home/besslab-orin/.local/lib/python3.10/site-packages (from -r requirements.txt (line 1)) (4.3.0)\n",
      "Requirement already satisfied: cachetools==5.5.2 in /home/besslab-orin/.local/lib/python3.10/site-packages (from -r requirements.txt (line 2)) (5.5.2)\n",
      "Requirement already satisfied: certifi==2025.1.31 in /home/besslab-orin/.local/lib/python3.10/site-packages (from -r requirements.txt (line 3)) (2025.1.31)\n",
      "Requirement already satisfied: cffi==1.17.1 in /home/besslab-orin/.local/lib/python3.10/site-packages (from -r requirements.txt (line 4)) (1.17.1)\n",
      "Requirement already satisfied: charset-normalizer==3.4.1 in /home/besslab-orin/.local/lib/python3.10/site-packages (from -r requirements.txt (line 5)) (3.4.1)\n",
      "Requirement already satisfied: cryptography==44.0.2 in /home/besslab-orin/.local/lib/python3.10/site-packages (from -r requirements.txt (line 6)) (44.0.2)\n",
      "Requirement already satisfied: debtcollector==3.0.0 in /home/besslab-orin/.local/lib/python3.10/site-packages (from -r requirements.txt (line 7)) (3.0.0)\n",
      "Requirement already satisfied: google-api-core==2.24.1 in /home/besslab-orin/.local/lib/python3.10/site-packages (from -r requirements.txt (line 8)) (2.24.1)\n",
      "Requirement already satisfied: google-auth==2.38.0 in /home/besslab-orin/.local/lib/python3.10/site-packages (from -r requirements.txt (line 9)) (2.38.0)\n",
      "Requirement already satisfied: google-cloud==0.34.0 in /home/besslab-orin/.local/lib/python3.10/site-packages (from -r requirements.txt (line 10)) (0.34.0)\n",
      "Requirement already satisfied: google-cloud-core==2.4.2 in /home/besslab-orin/.local/lib/python3.10/site-packages (from -r requirements.txt (line 11)) (2.4.2)\n",
      "Requirement already satisfied: google-cloud-storage==3.1.0 in /home/besslab-orin/.local/lib/python3.10/site-packages (from -r requirements.txt (line 12)) (3.1.0)\n",
      "Requirement already satisfied: google-crc32c==1.6.0 in /home/besslab-orin/.local/lib/python3.10/site-packages (from -r requirements.txt (line 13)) (1.6.0)\n",
      "Requirement already satisfied: google-resumable-media==2.7.2 in /home/besslab-orin/.local/lib/python3.10/site-packages (from -r requirements.txt (line 14)) (2.7.2)\n",
      "Requirement already satisfied: googleapis-common-protos==1.69.1 in /home/besslab-orin/.local/lib/python3.10/site-packages (from -r requirements.txt (line 15)) (1.69.1)\n",
      "Requirement already satisfied: gphoto2==2.5.1 in /home/besslab-orin/.local/lib/python3.10/site-packages (from -r requirements.txt (line 16)) (2.5.1)\n",
      "Requirement already satisfied: idna==3.10 in /home/besslab-orin/.local/lib/python3.10/site-packages (from -r requirements.txt (line 17)) (3.10)\n",
      "Requirement already satisfied: image-utils==0.1.6 in /home/besslab-orin/.local/lib/python3.10/site-packages (from -r requirements.txt (line 18)) (0.1.6)\n",
      "Requirement already satisfied: iso8601==2.1.0 in /home/besslab-orin/.local/lib/python3.10/site-packages (from -r requirements.txt (line 19)) (2.1.0)\n",
      "Requirement already satisfied: libsonyapi==1.0 in /home/besslab-orin/.local/lib/python3.10/site-packages (from -r requirements.txt (line 20)) (1.0)\n",
      "Requirement already satisfied: netaddr==1.3.0 in /home/besslab-orin/.local/lib/python3.10/site-packages (from -r requirements.txt (line 21)) (1.3.0)\n",
      "Requirement already satisfied: numpy==2.2.3 in /home/besslab-orin/.local/lib/python3.10/site-packages (from -r requirements.txt (line 22)) (2.2.3)\n",
      "Requirement already satisfied: opencv-python==4.11.0.86 in /home/besslab-orin/.local/lib/python3.10/site-packages (from -r requirements.txt (line 23)) (4.11.0.86)\n",
      "Requirement already satisfied: oslo.i18n==6.5.1 in /home/besslab-orin/.local/lib/python3.10/site-packages (from -r requirements.txt (line 24)) (6.5.1)\n",
      "Requirement already satisfied: oslo.utils==8.2.0 in /home/besslab-orin/.local/lib/python3.10/site-packages (from -r requirements.txt (line 25)) (8.2.0)\n",
      "Requirement already satisfied: packaging==24.2 in /home/besslab-orin/.local/lib/python3.10/site-packages (from -r requirements.txt (line 26)) (24.2)\n",
      "Requirement already satisfied: paramiko==3.5.1 in /home/besslab-orin/.local/lib/python3.10/site-packages (from -r requirements.txt (line 27)) (3.5.1)\n",
      "Requirement already satisfied: pbr==6.1.1 in /home/besslab-orin/.local/lib/python3.10/site-packages (from -r requirements.txt (line 28)) (6.1.1)\n",
      "Requirement already satisfied: pillow==11.1.0 in /home/besslab-orin/.local/lib/python3.10/site-packages (from -r requirements.txt (line 29)) (11.1.0)\n",
      "Requirement already satisfied: progressbar==2.5 in /home/besslab-orin/.local/lib/python3.10/site-packages (from -r requirements.txt (line 30)) (2.5)\n",
      "Requirement already satisfied: proto-plus==1.26.0 in /home/besslab-orin/.local/lib/python3.10/site-packages (from -r requirements.txt (line 31)) (1.26.0)\n",
      "Requirement already satisfied: protobuf==5.29.3 in /home/besslab-orin/.local/lib/python3.10/site-packages (from -r requirements.txt (line 32)) (5.29.3)\n",
      "Requirement already satisfied: psutil==7.0.0 in /home/besslab-orin/.local/lib/python3.10/site-packages (from -r requirements.txt (line 33)) (7.0.0)\n",
      "Requirement already satisfied: pyasn1==0.6.1 in /home/besslab-orin/.local/lib/python3.10/site-packages (from -r requirements.txt (line 34)) (0.6.1)\n",
      "Requirement already satisfied: pyasn1_modules==0.4.1 in /home/besslab-orin/.local/lib/python3.10/site-packages (from -r requirements.txt (line 35)) (0.4.1)\n",
      "Requirement already satisfied: pycparser==2.22 in /home/besslab-orin/.local/lib/python3.10/site-packages (from -r requirements.txt (line 36)) (2.22)\n",
      "Requirement already satisfied: PyNaCl==1.5.0 in /usr/lib/python3/dist-packages (from -r requirements.txt (line 37)) (1.5.0)\n",
      "Requirement already satisfied: pyparsing==3.2.1 in /home/besslab-orin/.local/lib/python3.10/site-packages (from -r requirements.txt (line 38)) (3.2.1)\n",
      "Requirement already satisfied: python-cephlibs==0.94.5.post1 in /home/besslab-orin/.local/lib/python3.10/site-packages (from -r requirements.txt (line 39)) (0.94.5.post1)\n",
      "Requirement already satisfied: PyYAML==6.0.2 in /home/besslab-orin/.local/lib/python3.10/site-packages (from -r requirements.txt (line 40)) (6.0.2)\n",
      "Requirement already satisfied: requests==2.32.3 in /home/besslab-orin/.local/lib/python3.10/site-packages (from -r requirements.txt (line 41)) (2.32.3)\n",
      "Requirement already satisfied: rsa==4.9 in /home/besslab-orin/.local/lib/python3.10/site-packages (from -r requirements.txt (line 42)) (4.9)\n",
      "Requirement already satisfied: setuptools==75.8.0 in /home/besslab-orin/.local/lib/python3.10/site-packages (from -r requirements.txt (line 43)) (75.8.0)\n",
      "Requirement already satisfied: six==1.17.0 in /home/besslab-orin/.local/lib/python3.10/site-packages (from -r requirements.txt (line 44)) (1.17.0)\n",
      "Requirement already satisfied: storage==0.0.4.3 in /home/besslab-orin/.local/lib/python3.10/site-packages (from -r requirements.txt (line 45)) (0.0.4.3)\n",
      "Requirement already satisfied: tzdata==2025.1 in /home/besslab-orin/.local/lib/python3.10/site-packages (from -r requirements.txt (line 46)) (2025.1)\n",
      "Requirement already satisfied: urllib3==2.3.0 in /home/besslab-orin/.local/lib/python3.10/site-packages (from -r requirements.txt (line 47)) (2.3.0)\n",
      "Requirement already satisfied: wrapt==1.17.2 in /home/besslab-orin/.local/lib/python3.10/site-packages (from -r requirements.txt (line 48)) (1.17.2)\n",
      "\u001b[33mWARNING: Ignoring invalid distribution - (/home/besslab-orin/.local/lib/python3.10/site-packages)\u001b[0m\u001b[33m\n",
      "\u001b[0m\u001b[33mWARNING: Ignoring invalid distribution -umpy (/home/besslab-orin/.local/lib/python3.10/site-packages)\u001b[0m\u001b[33m\n",
      "\u001b[0m\u001b[33mWARNING: Ignoring invalid distribution - (/home/besslab-orin/.local/lib/python3.10/site-packages)\u001b[0m\u001b[33m\n",
      "\u001b[0m\u001b[33mWARNING: Ignoring invalid distribution -umpy (/home/besslab-orin/.local/lib/python3.10/site-packages)\u001b[0m\u001b[33m\n",
      "\u001b[0mDefaulting to user installation because normal site-packages is not writeable\n",
      "\u001b[33mWARNING: Ignoring invalid distribution - (/home/besslab-orin/.local/lib/python3.10/site-packages)\u001b[0m\u001b[33m\n",
      "\u001b[0m\u001b[33mWARNING: Ignoring invalid distribution -umpy (/home/besslab-orin/.local/lib/python3.10/site-packages)\u001b[0m\u001b[33m\n",
      "\u001b[0mCollecting git+https://github.com/facebookresearch/segment-anything.git\n",
      "  Cloning https://github.com/facebookresearch/segment-anything.git to /tmp/pip-req-build-0327b9xb\n",
      "  Running command git clone --filter=blob:none --quiet https://github.com/facebookresearch/segment-anything.git /tmp/pip-req-build-0327b9xb\n",
      "  Resolved https://github.com/facebookresearch/segment-anything.git to commit dca509fe793f601edb92606367a655c15ac00fdf\n",
      "  Preparing metadata (setup.py) ... \u001b[?25ldone\n",
      "\u001b[33mWARNING: Ignoring invalid distribution - (/home/besslab-orin/.local/lib/python3.10/site-packages)\u001b[0m\u001b[33m\n",
      "\u001b[0m\u001b[33mWARNING: Ignoring invalid distribution -umpy (/home/besslab-orin/.local/lib/python3.10/site-packages)\u001b[0m\u001b[33m\n",
      "\u001b[0m\u001b[33mWARNING: Ignoring invalid distribution - (/home/besslab-orin/.local/lib/python3.10/site-packages)\u001b[0m\u001b[33m\n",
      "\u001b[0m\u001b[33mWARNING: Ignoring invalid distribution -umpy (/home/besslab-orin/.local/lib/python3.10/site-packages)\u001b[0m\u001b[33m\n",
      "\u001b[0m\u001b[?25h/bin/bash: line 1: 2: No such file or directory\n",
      "Found existing installation: torch 2.5.0a0+872d972e41.nv24.8\n",
      "Uninstalling torch-2.5.0a0+872d972e41.nv24.8:\n",
      "  Successfully uninstalled torch-2.5.0a0+872d972e41.nv24.8\n",
      "\u001b[33mWARNING: Ignoring invalid distribution - (/home/besslab-orin/.local/lib/python3.10/site-packages)\u001b[0m\u001b[33m\n",
      "\u001b[0m\u001b[33mWARNING: Ignoring invalid distribution -umpy (/home/besslab-orin/.local/lib/python3.10/site-packages)\u001b[0m\u001b[33m\n",
      "\u001b[0m\u001b[33mWARNING: Skipping torchvision as it is not installed.\u001b[0m\u001b[33m\n",
      "\u001b[0m\u001b[33mWARNING: Ignoring invalid distribution - (/home/besslab-orin/.local/lib/python3.10/site-packages)\u001b[0m\u001b[33m\n",
      "\u001b[0m\u001b[33mWARNING: Ignoring invalid distribution -umpy (/home/besslab-orin/.local/lib/python3.10/site-packages)\u001b[0m\u001b[33m\n",
      "\u001b[0m\u001b[33mWARNING: Skipping torchaudio as it is not installed.\u001b[0m\u001b[33m\n",
      "\u001b[0mDefaulting to user installation because normal site-packages is not writeable\n",
      "\u001b[33mWARNING: Ignoring invalid distribution - (/home/besslab-orin/.local/lib/python3.10/site-packages)\u001b[0m\u001b[33m\n",
      "\u001b[0m\u001b[33mWARNING: Ignoring invalid distribution -umpy (/home/besslab-orin/.local/lib/python3.10/site-packages)\u001b[0m\u001b[33m\n",
      "\u001b[0mRequirement already satisfied: matplotlib in /home/besslab-orin/.local/lib/python3.10/site-packages (3.10.1)\n",
      "Requirement already satisfied: contourpy>=1.0.1 in /home/besslab-orin/.local/lib/python3.10/site-packages (from matplotlib) (1.3.1)\n",
      "Requirement already satisfied: cycler>=0.10 in /usr/lib/python3/dist-packages (from matplotlib) (0.11.0)\n",
      "Requirement already satisfied: fonttools>=4.22.0 in /usr/lib/python3/dist-packages (from matplotlib) (4.29.1)\n",
      "Requirement already satisfied: kiwisolver>=1.3.1 in /usr/lib/python3/dist-packages (from matplotlib) (1.3.2)\n",
      "Requirement already satisfied: numpy>=1.23 in /home/besslab-orin/.local/lib/python3.10/site-packages (from matplotlib) (2.2.3)\n",
      "Requirement already satisfied: packaging>=20.0 in /home/besslab-orin/.local/lib/python3.10/site-packages (from matplotlib) (24.2)\n",
      "Requirement already satisfied: pillow>=8 in /home/besslab-orin/.local/lib/python3.10/site-packages (from matplotlib) (11.1.0)\n",
      "Requirement already satisfied: pyparsing>=2.3.1 in /home/besslab-orin/.local/lib/python3.10/site-packages (from matplotlib) (3.2.1)\n",
      "Requirement already satisfied: python-dateutil>=2.7 in /home/besslab-orin/.local/lib/python3.10/site-packages (from matplotlib) (2.9.0.post0)\n",
      "Requirement already satisfied: six>=1.5 in /home/besslab-orin/.local/lib/python3.10/site-packages (from python-dateutil>=2.7->matplotlib) (1.17.0)\n",
      "\u001b[33mWARNING: Ignoring invalid distribution - (/home/besslab-orin/.local/lib/python3.10/site-packages)\u001b[0m\u001b[33m\n",
      "\u001b[0m\u001b[33mWARNING: Ignoring invalid distribution -umpy (/home/besslab-orin/.local/lib/python3.10/site-packages)\u001b[0m\u001b[33m\n",
      "\u001b[0m\u001b[33mWARNING: Ignoring invalid distribution - (/home/besslab-orin/.local/lib/python3.10/site-packages)\u001b[0m\u001b[33m\n",
      "\u001b[0m\u001b[33mWARNING: Ignoring invalid distribution -umpy (/home/besslab-orin/.local/lib/python3.10/site-packages)\u001b[0m\u001b[33m\n",
      "\u001b[0mDefaulting to user installation because normal site-packages is not writeable\n",
      "\u001b[33mWARNING: Ignoring invalid distribution - (/home/besslab-orin/.local/lib/python3.10/site-packages)\u001b[0m\u001b[33m\n",
      "\u001b[0m\u001b[33mWARNING: Ignoring invalid distribution -umpy (/home/besslab-orin/.local/lib/python3.10/site-packages)\u001b[0m\u001b[33m\n",
      "\u001b[0mProcessing ./torch-2.5.0a0+872d972e41.nv24.08.17622132-cp310-cp310-linux_aarch64.whl\n",
      "Requirement already satisfied: filelock in /home/besslab-orin/.local/lib/python3.10/site-packages (from torch==2.5.0a0+872d972e41.nv24.08.17622132) (3.18.0)\n",
      "Requirement already satisfied: typing-extensions>=4.8.0 in /home/besslab-orin/.local/lib/python3.10/site-packages (from torch==2.5.0a0+872d972e41.nv24.08.17622132) (4.13.1)\n",
      "Requirement already satisfied: networkx in /home/besslab-orin/.local/lib/python3.10/site-packages (from torch==2.5.0a0+872d972e41.nv24.08.17622132) (3.4.2)\n",
      "Requirement already satisfied: jinja2 in /home/besslab-orin/.local/lib/python3.10/site-packages (from torch==2.5.0a0+872d972e41.nv24.08.17622132) (3.1.6)\n",
      "Requirement already satisfied: fsspec in /home/besslab-orin/.local/lib/python3.10/site-packages (from torch==2.5.0a0+872d972e41.nv24.08.17622132) (2025.3.2)\n",
      "Requirement already satisfied: sympy==1.13.1 in /home/besslab-orin/.local/lib/python3.10/site-packages (from torch==2.5.0a0+872d972e41.nv24.08.17622132) (1.13.1)\n",
      "Requirement already satisfied: mpmath<1.4,>=1.1.0 in /home/besslab-orin/.local/lib/python3.10/site-packages (from sympy==1.13.1->torch==2.5.0a0+872d972e41.nv24.08.17622132) (1.3.0)\n",
      "Requirement already satisfied: MarkupSafe>=2.0 in /usr/lib/python3/dist-packages (from jinja2->torch==2.5.0a0+872d972e41.nv24.08.17622132) (2.0.1)\n",
      "\u001b[33mWARNING: Ignoring invalid distribution - (/home/besslab-orin/.local/lib/python3.10/site-packages)\u001b[0m\u001b[33m\n",
      "\u001b[0m\u001b[33mWARNING: Ignoring invalid distribution -umpy (/home/besslab-orin/.local/lib/python3.10/site-packages)\u001b[0m\u001b[33m\n",
      "\u001b[0mInstalling collected packages: torch\n",
      "\u001b[33mWARNING: Ignoring invalid distribution - (/home/besslab-orin/.local/lib/python3.10/site-packages)\u001b[0m\u001b[33m\n",
      "\u001b[0m\u001b[33mWARNING: Ignoring invalid distribution -umpy (/home/besslab-orin/.local/lib/python3.10/site-packages)\u001b[0m\u001b[33m\n",
      "\u001b[0mSuccessfully installed torch-2.5.0a0+872d972e41.nv24.8\n"
     ]
    }
   ],
   "source": [
    "# install requirements\n",
    "!pip install -r requirements.txt\n",
    "!pip install git+https://github.com/facebookresearch/segment-anything.git\n",
    "!pip install -U numpy<2\n",
    "!pip uninstall -y torch\n",
    "!pip uninstall -y torchvision\n",
    "!pip uninstall -y torchaudio\n",
    "!pip install -U matplotlib\n",
    "!pip install torch-2.5.0a0+872d972e41.nv24.08.17622132-cp310-cp310-linux_aarch64.whl\n",
    "!wget raw.githubusercontent.com/pytorch/pytorch/5c6af2b583709f6176898c017424dc9981023c28/.ci/docker/common/install_cusparselt.sh "
   ]
  },
  {
   "cell_type": "code",
   "execution_count": 2,
   "id": "d26e7472-b166-4f7f-a767-8d4928e66d04",
   "metadata": {},
   "outputs": [
    {
     "name": "stderr",
     "output_type": "stream",
     "text": [
      "/home/besslab-orin/.local/lib/python3.10/site-packages/matplotlib/projections/__init__.py:63: UserWarning: Unable to import Axes3D. This may be due to multiple versions of Matplotlib being installed (e.g. as a system package and as a pip package). As a result, the 3D projection is not available.\n",
      "  warnings.warn(\"Unable to import Axes3D. This may be due to multiple versions of \"\n"
     ]
    },
    {
     "ename": "ImportError",
     "evalue": "libcusparseLt.so.0: cannot open shared object file: No such file or directory",
     "output_type": "error",
     "traceback": [
      "\u001b[0;31m---------------------------------------------------------------------------\u001b[0m",
      "\u001b[0;31mImportError\u001b[0m                               Traceback (most recent call last)",
      "Cell \u001b[0;32mIn[2], line 16\u001b[0m\n\u001b[1;32m     14\u001b[0m \u001b[38;5;28;01mimport\u001b[39;00m\u001b[38;5;250m \u001b[39m\u001b[38;5;21;01mmatplotlib\u001b[39;00m\u001b[38;5;21;01m.\u001b[39;00m\u001b[38;5;21;01mpyplot\u001b[39;00m\u001b[38;5;250m \u001b[39m\u001b[38;5;28;01mas\u001b[39;00m\u001b[38;5;250m \u001b[39m\u001b[38;5;21;01mplt\u001b[39;00m\n\u001b[1;32m     15\u001b[0m \u001b[38;5;28;01mimport\u001b[39;00m\u001b[38;5;250m \u001b[39m\u001b[38;5;21;01mcv2\u001b[39;00m\n\u001b[0;32m---> 16\u001b[0m \u001b[38;5;28;01mimport\u001b[39;00m\u001b[38;5;250m \u001b[39m\u001b[38;5;21;01mtorch\u001b[39;00m\n\u001b[1;32m     17\u001b[0m \u001b[38;5;28;01mimport\u001b[39;00m\u001b[38;5;250m \u001b[39m\u001b[38;5;21;01mtorchvision\u001b[39;00m\n\u001b[1;32m     19\u001b[0m \u001b[38;5;28;01mfrom\u001b[39;00m\u001b[38;5;250m \u001b[39m\u001b[38;5;21;01msegment_anything\u001b[39;00m\u001b[38;5;250m \u001b[39m\u001b[38;5;28;01mimport\u001b[39;00m SamAutomaticMaskGenerator, sam_model_registry\n",
      "File \u001b[0;32m~/.local/lib/python3.10/site-packages/torch/__init__.py:361\u001b[0m\n\u001b[1;32m    359\u001b[0m     \u001b[38;5;28;01mif\u001b[39;00m USE_GLOBAL_DEPS:\n\u001b[1;32m    360\u001b[0m         _load_global_deps()\n\u001b[0;32m--> 361\u001b[0m     \u001b[38;5;28;01mfrom\u001b[39;00m\u001b[38;5;250m \u001b[39m\u001b[38;5;21;01mtorch\u001b[39;00m\u001b[38;5;21;01m.\u001b[39;00m\u001b[38;5;21;01m_C\u001b[39;00m\u001b[38;5;250m \u001b[39m\u001b[38;5;28;01mimport\u001b[39;00m \u001b[38;5;241m*\u001b[39m  \u001b[38;5;66;03m# noqa: F403\u001b[39;00m\n\u001b[1;32m    364\u001b[0m \u001b[38;5;28;01mclass\u001b[39;00m\u001b[38;5;250m \u001b[39m\u001b[38;5;21;01mSymInt\u001b[39;00m:\n\u001b[1;32m    365\u001b[0m \u001b[38;5;250m    \u001b[39m\u001b[38;5;124;03m\"\"\"\u001b[39;00m\n\u001b[1;32m    366\u001b[0m \u001b[38;5;124;03m    Like an int (including magic methods), but redirects all operations on the\u001b[39;00m\n\u001b[1;32m    367\u001b[0m \u001b[38;5;124;03m    wrapped node. This is used in particular to symbolically record operations\u001b[39;00m\n\u001b[1;32m    368\u001b[0m \u001b[38;5;124;03m    in the symbolic shape workflow.\u001b[39;00m\n\u001b[1;32m    369\u001b[0m \u001b[38;5;124;03m    \"\"\"\u001b[39;00m\n",
      "\u001b[0;31mImportError\u001b[0m: libcusparseLt.so.0: cannot open shared object file: No such file or directory"
     ]
    }
   ],
   "source": [
    "# import python libraries\n",
    "import time\n",
    "import os\n",
    "import gphoto2 as gp \n",
    "import logging\n",
    "import locale\n",
    "import subprocess\n",
    "import sys\n",
    "import mimetypes\n",
    "import datetime\n",
    "import traceback\n",
    "from pathlib import Path\n",
    "import numpy as np\n",
    "import matplotlib.pyplot as plt\n",
    "import cv2\n",
    "import torch\n",
    "import torchvision\n",
    "\n",
    "from segment_anything import SamAutomaticMaskGenerator, sam_model_registry\n",
    "sam = sam_model_registry[\"vit_h\"](checkpoint=\"sam_vit_h_4b8939.pth\")\n",
    "sam.to(device='cuda')\n",
    "mask_generator = SamAutomaticMaskGenerator(sam)\n"
   ]
  },
  {
   "cell_type": "markdown",
   "id": "b0089877-7380-47de-af6f-142bdc2e5564",
   "metadata": {},
   "source": [
    "## 2. Take image with GPhoto2 Open-source camera control library"
   ]
  },
  {
   "cell_type": "code",
   "execution_count": null,
   "id": "0d9a9361-7846-4f4b-8517-32a6602881aa",
   "metadata": {},
   "outputs": [],
   "source": [
    "# initialize camera object\n",
    "camera = gp.Camera()\n",
    "camera.init()\n",
    "\n",
    "try:\n",
    "    print(\"Capturing image....\")\n",
    "    file_path = camera.capture(gp.GP_CAPTURE_IMAGE)\n",
    "\n",
    "    filename = file_path.name\n",
    "    folder = file_path.folder\n",
    "\n",
    "    # define where to store image, local directory in this case\n",
    "    target_path = os.path.join(ohttps://developer.download.nvidia.com/compute/redist/jp/v51/pytorch/torch-1.14.0a0+44dac51c.nv23.01-cp38-cp38-linux_aarch64.whls.getcwd(), \"test1.jpg\")\n",
    "\n",
    "    # download file from camera to host\n",
    "    print(f\"Saving image to {target_path}\")\n",
    "    camera_file = camera.file_get(folder, filename, gp.GP_FILE_TYPE_NORMAL)\n",
    "    camera_file.save(target_path)\n",
    "\n",
    "except gp.GPhoto2Error as ex:\n",
    "    print(f\"An error occured: {ex}\")\n",
    "\n",
    "finally:\n",
    "    camera.exit()\n",
    "    print(\"Success\")\n"
   ]
  },
  {
   "cell_type": "markdown",
   "id": "9311df7c-3ef1-4440-a4b1-4e766ac8b560",
   "metadata": {},
   "source": [
    "## 3. Augment and process image"
   ]
  },
  {
   "cell_type": "code",
   "execution_count": null,
   "id": "d30ca212-b9a1-4efd-b7d8-7ea1054cfbd4",
   "metadata": {},
   "outputs": [],
   "source": [
    "# load image into cv2\n",
    "image_1 = cv2.imread(target_path)\n",
    "image_1 = cv2.cvtColor(image_1, cv2.COLOR_BGR2RGB)\n",
    "\n",
    "plt.figure(figsize=(15,15))\n",
    "plt.imshow(image_1)\n",
    "plt.axis('off')\n",
    "plt.show()\n"
   ]
  },
  {
   "cell_type": "markdown",
   "id": "d3868a30-d26c-434d-9cba-f83359f471c2",
   "metadata": {},
   "source": [
    "## 4. Send image through SAM"
   ]
  },
  {
   "cell_type": "code",
   "execution_count": null,
   "id": "1817e8f5-b7a0-4c07-a73f-a86ae388a331",
   "metadata": {},
   "outputs": [],
   "source": [
    "masks = mask_generator.generate(image_1)"
   ]
  },
  {
   "cell_type": "markdown",
   "id": "4d0dca4c-34ab-4b30-9259-5cf2c9f9c2f2",
   "metadata": {},
   "source": [
    "## 5. Display segmented image"
   ]
  },
  {
   "cell_type": "code",
   "execution_count": null,
   "id": "7de45c2c-b4bc-4515-a5a6-85138a99b9c1",
   "metadata": {},
   "outputs": [],
   "source": [
    "def show_anns(anns):\n",
    "    if len(anns) == 0:\n",
    "        return\n",
    "    sorted_anns = sorted(anns, key=(lambda x: x['area']), reverse=True)\n",
    "    ax = plt.gca()\n",
    "    ax.set_autoscale_on(False)\n",
    "\n",
    "    img = np.ones((sorted_anns[0]['segmentation'].shape[0], sorted_anns[0]['segmentation'].shape[1], 4))\n",
    "    img[:,:,3] = 0\n",
    "    for ann in sorted_anns:\n",
    "        m = ann['segmentation']\n",
    "        color_mask = np.concatenate([np.random.random(3), [0.35])\n",
    "        img[m] = color_mask\n",
    "    ax.imshow(img)\n",
    "\n",
    "plt.figure(figsize=(15,15))\n",
    "plt.imshow(image_1)\n",
    "show_anns(masks)\n",
    "plt.axis('off')\n",
    "plt.show()"
   ]
  }
 ],
 "metadata": {
  "kernelspec": {
   "display_name": "Python 3 (ipykernel)",
   "language": "python",
   "name": "python3"
  },
  "language_info": {
   "codemirror_mode": {
    "name": "ipython",
    "version": 3
   },
   "file_extension": ".py",
   "mimetype": "text/x-python",
   "name": "python",
   "nbconvert_exporter": "python",
   "pygments_lexer": "ipython3",
   "version": "3.10.12"
  }
 },
 "nbformat": 4,
 "nbformat_minor": 5
}
